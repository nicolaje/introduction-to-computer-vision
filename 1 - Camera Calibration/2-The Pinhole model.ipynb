{
 "cells": [
  {
   "cell_type": "markdown",
   "metadata": {},
   "source": [
    "## From the camera frame to the image plane: the Pinhole model\n",
    "![pinhole](imgs/pinhole.png)"
   ]
  },
  {
   "cell_type": "markdown",
   "metadata": {},
   "source": [
    "The transformation that sends 3D coordinates from the camera coordinates system to the image plane is a **projective transformation**.\n",
    "How are they projected?\n",
    "![1D1](imgs/1D1.png)\n",
    "The 3D point $\\mathbf{P}$ located at a depth $Z$ and a distance $X$ from the optical center will be projected at a poin $\\mathbf{p}$ such that (Thales Theorem):\n",
    "![1D1](imgs/1D2.png)\n",
    "In 3D, $\\mathbf{P}=(X,Y,Z)$ is projected in the image plane such that:\n",
    "![1D1](imgs/1D3.png)\n",
    "with:\n",
    "\n",
    "$x_{cam}=\\frac{f}{Z}X$\n",
    "\n",
    "$y_{cam}=\\frac{f}{Z}Y$"
   ]
  },
  {
   "cell_type": "markdown",
   "metadata": {},
   "source": [
    "## Homogeneous coordinates\n",
    "This projection can be expressed using **homogeneous coordinates** (a single matrix containing the rotation and the translation) and we have:\n",
    "\n",
    "$\\mathbf{x}=\\mathbf{P}\\cdot\\mathbf{X}$\n",
    "\n",
    "with:\n",
    "\n",
    "$\\mathbf{X}=(\\begin{matrix} X & Y & Z & 1 \\end{matrix})^T$"
   ]
  },
  {
   "cell_type": "markdown",
   "metadata": {},
   "source": [
    "### What is that 4th component?\n",
    "Let us consider the 1D case:\n",
    "* normaly, in non-homogeneous coordinate system, there is only a single dimension for $\\mathbf{P}$. Ex: $X=3$.\n",
    "![homog1](imgs/homog1.png)\n",
    "* In an homogeneous system, a 1D point is represented as a 2D vector, defining a ray!\n",
    "![homog2](imgs/homog2.png)\n",
    "in such a system, a vector is defined **up to a scale factor**.\n",
    "![homog3](imgs/homog3.png)\n",
    "\n",
    "In a 2D world:\n",
    "* in a non homogeneous system, $\\mathbf{P}$ has two dimensions\n",
    "![homog2D1](imgs/homog2D1.png)\n",
    "* in an homogeneous system, a 2D point has 3 dimensions\n",
    "![homog2D2](imgs/homog2D2.png)\n",
    "**This is our Pinhole camera model!**\n",
    "\n",
    "Except the 3rd componend has the value of the focal length _f_\n",
    "\n",
    "Our 3D point $(\\begin{matrix} X & Y & Z \\end{matrix})$ is projected in the image plane at $(\\begin{matrix} x_{cam} & y_{cam}\\end{matrix})$.\n",
    "\n",
    "This can be written as:\n",
    "$\\lambda\\left(\\begin{matrix} x_{cam} \\\\ y_{cam} \\\\ f \\end{matrix}\\right)=\\left(\\begin{matrix} X \\\\ Y \\\\ Z \\end{matrix}\\right)$\n",
    "with\n",
    "$\\lambda=\\frac{Z}{f}$\n",
    "\n",
    "Using homogeneous coordinates it can be expressed as a linear transformation\n",
    "$\\left(\\begin{matrix} x_{cam} \\\\ y_{cam} \\\\ f \\end{matrix}\\right)\\stackrel{\\text{Up to a scale factor}}{\\approx}\\left(\\begin{matrix} 1 & 0 & 0 & 0 \\\\ 0 & 1 & 0 & 0 \\\\ 0 & 0 & 1 & 0\\end{matrix}\\right)\\cdot\\left(\\begin{matrix} X \\\\ Y \\\\ Z \\\\ 1 \\end{matrix}\\right)$"
   ]
  },
  {
   "cell_type": "markdown",
   "metadata": {},
   "source": [
    "# From the image plane to pixel coordinates\n",
    "How are these camera $\\left(\\begin{matrix} x_{cam} & y_{cam} \\end{matrix}\\right)$ relate to the pixel coordinates in an image?\n",
    "![pix1](imgs/pix1.png)\n",
    "\n",
    "$x=-f*x_{cam}+x_0$\n",
    "\n",
    "$y=-f*y_{cam}+y_0$\n",
    "\n",
    "## What if pixels aren't square?\n",
    "$x=-k_x*x_{cam}+x_0$\n",
    "\n",
    "$y=-k_y*y_{cam}+y_0$\n",
    "\n",
    "where k_x, k_y are pixels/length.\n",
    "\n",
    "Using homogeneous coordinates:\n",
    "\n",
    "$\\left(\\begin{matrix} x \\\\ y \\\\ 1 \\end{matrix}\\right)=\\frac{1}{f}\\underbrace{\\left(\\begin{matrix} \\alpha_x & 0 & x_0 \\\\ 0 & \\alpha_y & y_0 \\\\ 0 & 0 & 1 \\end{matrix}\\right)}_{\\text{Camera calibration matrix}}\\left(\\begin{matrix} x_{cam} \\\\ y_{cam} \\\\ f \\end{matrix}\\right)$\n",
    "\n",
    "where $\\alpha_x=-fk_x$ and $\\alpha_y=-fk_y$\n",
    "\n",
    "This matrix:\n",
    "* completely describes the internal camera parameters of a pinhole camera\n",
    "* is a $3\\times3$ upper triangular matrix\n",
    "* The 4 internal camera parameters are:\n",
    "    * $\\alpha_x$ and $\\alpha_y$ scaling in x and y directions\n",
    "    * ($x_0,y_0$) location of the principal point\n",
    "* $\\frac{\\alpha_y}{\\alpha_x}$ is the aspect ratio"
   ]
  },
  {
   "cell_type": "markdown",
   "metadata": {},
   "source": [
    "# Summary\n",
    "Now we can (almost) describe how a point in 3D space projects onto an image\n",
    "* Transform the 3D point to the camera reference frame\n",
    "$\\left(\\begin{matrix} X' \\\\ Y' \\\\ Z' \\\\ 1 \\end{matrix}\\right)=\\left(\\begin{matrix}\\mathbf{R}^T & -\\mathbf{t} \\\\ \\mathbf{0}^T & 1\\end{matrix}\\right)\\cdot\\left(\\begin{matrix} X \\\\ Y \\\\ Z \\\\ 1 \\end{matrix}\\right)$\n",
    "\n",
    "With $\\mathbf{R}$ the rotation matrix of the camera and $\\mathbf{t}$ its translation vector (what you have been coding without homogeneous coordinates in Part.1).\n",
    "* Project the points onto the image plane\n",
    "$\\left(\\begin{matrix} x_{cam} \\\\ y_{cam} \\\\ f \\end{matrix}\\right)=\\left(\\begin{matrix}1 & 0 & 0 & 0 \\\\ 0 & 1 & 0 & 0 \\\\ 0 & 0 & 1 & 0 \\end{matrix}\\right)\\cdot\\left(\\begin{matrix} X' \\\\ Y' \\\\ Z' \\\\ 1 \\end{matrix}\\right)$\n",
    "* Map the points on the image plane into pixel coordinates\n",
    "$\\left(\\begin{matrix} x \\\\ y \\\\ 1 \\end{matrix}\\right)=\\frac{1}{f}\\left(\\begin{matrix} \\alpha_x & 0 & x_0 \\\\ 0 & \\alpha_y & y_0 \\\\ 0 & 0 & 1 \\end{matrix}\\right)\\cdot\\left(\\begin{matrix} x_{cam} \\\\ y_{cam} \\\\ f \\end{matrix}\\right)$\n",
    "\n",
    "Combining these transforms we have:\n",
    "$\\left(\\begin{matrix} x \\\\ y \\\\ 1 \\end{matrix}\\right)=\\underbrace{\\frac{1}{f}}_{\\text{Homog. coord. up to a scale fact.: discard this}}\\left(\\begin{matrix} \\alpha_x & 0 & x_0 \\\\ 0 & \\alpha_y & y_0 \\\\ 0 & 0 & 1 \\end{matrix}\\right)\\cdot\\left(\\begin{matrix}1 & 0 & 0 & 0 \\\\ 0 & 1 & 0 & 0 \\\\ 0 & 0 & 1 & 0 \\end{matrix}\\right)\\cdot\\left(\\begin{matrix}\\mathbf{R}^T & -\\mathbf{t} \\\\ \\mathbf{0}^T & 1\\end{matrix}\\right)\\cdot\\left(\\begin{matrix} X \\\\ Y \\\\ Z \\\\ 1 \\end{matrix}\\right)$\n",
    "\n",
    "$\\left(\\begin{matrix} x \\\\ y \\\\ 1 \\end{matrix}\\right)=\\left(\\begin{matrix} \\alpha_x & 0 & x_0 \\\\ 0 & \\alpha_y & y_0 \\\\ 0 & 0 & 1 \\end{matrix}\\right)\\cdot\\left(\\begin{matrix}1 & 0 & 0 & 0 \\\\ 0 & 1 & 0 & 0 \\\\ 0 & 0 & 1 & 0 \\end{matrix}\\right)\\cdot\\left(\\begin{matrix}\\mathbf{R}^T & -\\mathbf{t} \\\\ \\mathbf{0}^T & 1\\end{matrix}\\right)\\cdot\\left(\\begin{matrix} X \\\\ Y \\\\ Z \\\\ 1 \\end{matrix}\\right)$\n",
    "\n",
    "$\\left(\\begin{matrix} x \\\\ y \\\\ 1 \\end{matrix}\\right)=\\left(\\begin{matrix} \\alpha_x & 0 & x_0 \\\\ 0 & \\alpha_y & y_0 \\\\ 0 & 0 & 1 \\end{matrix}\\right)\\cdot\\left[\\begin{matrix}\\mathbf{R}^T & -\\mathbf{t}\\end{matrix}\\right]\\cdot\\left(\\begin{matrix} X \\\\ Y \\\\ Z \\\\ 1 \\end{matrix}\\right)$\n",
    "\n",
    "$\\Leftrightarrow\\mathbf{x}=\\mathbf{K}\\cdot\\left[\\mathbf{R}^T -\\mathbf{t}\\right]\\cdot\\mathbf{X}$\n",
    "\n",
    "$\\Leftrightarrow\\underbrace{\\mathbf{x}}_{\\text{image point}}=\\mathbf{P}_{3\\times4}\\cdot\\underbrace{\\mathbf{X}}_{\\text{scene point}}$"
   ]
  },
  {
   "cell_type": "markdown",
   "metadata": {},
   "source": [
    "## A projective camera is essentially an angle measuring device\n",
    "A point on the image ca correspond to any 3D location on the ray from the centre of projection through that point on the image plane.\n",
    "![pix2](imgs/pix2.png)"
   ]
  },
  {
   "cell_type": "markdown",
   "metadata": {},
   "source": [
    "# Calibrating a camera\n",
    "## Intrinsinc parameters\n",
    "A single camera is characterized by 4 internal _camera parameters_\n",
    "* $\\alpha_x$ scaling factor in x-direction\n",
    "* $\\alpha_y$ scaling factor in y-direction\n",
    "* ($x_0,y_0$) center of projection in image plane\n",
    "These parameters are contained in the matrix $\\mathbf{K}$\n",
    "## Extrinsinc parameters\n",
    "A camera also has 6 additional external camera parameters (3 translations, 3 rotations) describing the location and orientation of the camera with respect to the world coordinate frame\n",
    "\n",
    "The calibration is obtained considering a calibrating object with geometrical landmarks whose 3D properties are known\n",
    "![mire1](imgs/calObj1.png)"
   ]
  },
  {
   "cell_type": "markdown",
   "metadata": {},
   "source": [
    "# Exercice\n",
    "(re-using your previouly written 3D rotation matrix - beware the inverse), write the afore-described transformation."
   ]
  },
  {
   "cell_type": "code",
   "execution_count": 4,
   "metadata": {
    "collapsed": false
   },
   "outputs": [],
   "source": [
    "# !Angles are given in radians!\n",
    "import numpy as np\n",
    "from math import cos,sin\n",
    "\n",
    "def getTransform(alpha_x,apha_y,x_0,y0,alpha, beta, gamma, t1, t2, t3):\n",
    "    # Your code here\n",
    "    Rt=np.eye(3,4)\n",
    "    K=np.eye(3,3)\n",
    "    return np.dot(K,Rt)"
   ]
  },
  {
   "cell_type": "code",
   "execution_count": 15,
   "metadata": {
    "collapsed": false
   },
   "outputs": [],
   "source": [
    "# Don't modify me, just run me\n",
    "%matplotlib inline\n",
    "from IPython.html.widgets import interact, interactive\n",
    "from IPython.display import clear_output, display\n",
    "import numpy as np\n",
    "\n",
    "from matplotlib import pyplot as plt\n",
    "from mpl_toolkits.mplot3d import Axes3D\n",
    "from matplotlib.colors import cnames\n",
    "from matplotlib import animation\n",
    "\n",
    "# Generate a cloud of 3D points in the World coordinate system\n",
    "pts=5*np.random.randn(4,20)+5\n",
    "colors=np.random.rand(1,20)\n",
    "pts[3,:]=1\n",
    "\n",
    "from getFrameToDraw import getFrameToDraw\n",
    "\n",
    "def showWorldAndCameraFrame(alpha_x=0,apha_y=0,x_0=0,y0=0,alpha=0,beta=0,gamma=0,t1=0,t2=0,t3=0):\n",
    "    alpha=np.radians(alpha)\n",
    "    beta=np.radians(beta)\n",
    "    gamma=np.radians(gamma)\n",
    "    MWorld2Pix=getTransform(alpha_x,apha_y,x_0,y0,alpha,beta,gamma,t1,t2,t3)\n",
    "    \n",
    "    PCam=np.dot(MWorld2Pix,pts)\n",
    "    print(MWorld2Pix)\n",
    "    print(PCam)\n",
    "    \n",
    "    fig=plt.figure()\n",
    "    ax1=fig.add_subplot(121,projection='3d')\n",
    "    ax1.scatter(pts[0,:],pts[1,:],pts[2,:],'o',c=colors)\n",
    "    ax1.set_title(\"World Frame\")\n",
    "    ax1.set_xlim(0,15)\n",
    "    ax1.set_ylim(0,15)\n",
    "    ax1.set_zlim(0,15)\n",
    "    ax1.set_xlabel(\"X World\")\n",
    "    ax1.set_ylabel(\"Y World\")\n",
    "    ax1.set_zlabel(\"Z World\")\n",
    "    ax2=fig.add_subplot(122)\n",
    "    ax2.plot(PCam[0,:],PCam[1,:],'o')\n",
    "    ax2.set_title(\"Camera Frame\")\n",
    "    ax2.set_xlim(-15,15)\n",
    "    ax2.set_ylim(-15,15)\n",
    "    ax2.set_xlabel(\"x pixels\")\n",
    "    ax2.set_ylabel(\"y pixels\")\n",
    "    a1,a2,a3=getFrameToDraw(MWorld2Pix)\n",
    "    ax1.add_artist(a1)\n",
    "    ax1.add_artist(a2)\n",
    "    ax1.add_artist(a3)\n",
    "    plt.draw()\n",
    "    plt.show()"
   ]
  },
  {
   "cell_type": "code",
   "execution_count": 16,
   "metadata": {
    "collapsed": false
   },
   "outputs": [
    {
     "name": "stdout",
     "output_type": "stream",
     "text": [
      "[[ 1.  0.  0.  0.]\n",
      " [ 0.  1.  0.  0.]\n",
      " [ 0.  0.  1.  0.]]\n",
      "[[ -0.50186653   3.00772675   4.70935303  12.21409245   5.33195438\n",
      "    1.92930533  -3.87049474   4.12099039   7.59598111   0.66750599\n",
      "    2.4340307   11.1119097    4.76130657   2.95736145   3.17398335\n",
      "   -5.93518101   8.71242365  -0.77646767  11.92217305   2.71186771]\n",
      " [  7.35711868  10.33663533   7.88147639   7.85354165   5.72878262\n",
      "   -1.39260333   1.08741659   2.63106835   4.16059796  -2.06390314\n",
      "   -0.80885712   2.40147991   0.7444235   -7.7069709    4.43018769\n",
      "    0.67859373  22.22007879  10.84029338  -3.85991364  -2.94033366]\n",
      " [  1.2522525    6.53362148   2.87068702   4.0748085   11.56202381\n",
      "   13.37183909   6.8445641   -3.84518001   7.56426623   0.59538986\n",
      "    5.65208335   3.07061794   1.91227532   5.53633884   5.74466518\n",
      "    5.7404003    7.33259153   4.51977864  16.3683791    9.34216169]]\n"
     ]
    },
    {
     "data": {
      "image/png": "[encoded data removed]",
      "text/plain": [
       "<matplotlib.figure.Figure at 0x79b0748>"
      ]
     },
     "metadata": {},
     "output_type": "display_data"
    }
   ],
   "source": [
    "w=interactive(showWorldAndCameraFrame,alpha_x=(0,10.),apha_y=(0,10.),x_0=(0,10.),y0=(0,10.),alpha=(0.,360.),beta=(0.,360.),gamma=(0.,360.),t1=(0,10.),t2=(0,10.),t3=(0,10.))\n",
    "clear_output(wait=True)\n",
    "display(w)"
   ]
  }
 ],
 "metadata": {
  "kernelspec": {
   "display_name": "Python 3",
   "language": "python",
   "name": "python3"
  },
  "language_info": {
   "codemirror_mode": {
    "name": "ipython",
    "version": 3
   },
   "file_extension": ".py",
   "mimetype": "text/x-python",
   "name": "python",
   "nbconvert_exporter": "python",
   "pygments_lexer": "ipython3",
   "version": "3.4.4"
  }
 },
 "nbformat": 4,
 "nbformat_minor": 0
}
