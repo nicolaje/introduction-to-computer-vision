{
 "cells": [
  {
   "cell_type": "markdown",
   "metadata": {},
   "source": [
    "# Questions\n",
    "Either using the Jupyter notebook or using a separate Pythonscript using Pyzo:\n",
    "* If you write your code in a separate file, don't forget to send it to me by email with your group names : jeremy.nicola@gmail.com\n",
    "* Go to http://docs.opencv.org/3.0-beta/doc/py_tutorials/py_calib3d/py_calibration/py_calibration.html#calibration , all the OpenCV camera calibration related function you will need in this exam will be presented\n",
    "* Be careful if copy/pasting code from the web: we are using Pyhon3 and OpenCV 3 (which is quite recent)\n",
    "![itsATrap](imgs/aTrap.jpg)\n",
    "* Print the chessboard available at http://4.bp.blogspot.com/_rSc0zPNRAGQ/S5EYY-99BsI/AAAAAAAAA4M/AY8U0WjfRWw/s1600-h/checkerboard.png\n",
    "* Write a program to capture a given number of images from a WebCam (example code given below)\n",
    "* Use cvFindChessboardCorners to find the corners of the chessboard\n",
    "* Use cvDrawChessboardCorners to draw them\n",
    "* If **all** the corners have been identified, stock them in matrices\n",
    "* Once you moved the chessboard sufficiently on the image plane, use cvCalibrateCamera2 to obtain the intrinsinc parameters\n",
    "* Save them in an xml file (using OpenCV load & save functions)\n",
    "* Finaly, use correct the distortion of the image (again: http://docs.opencv.org/master/dc/dbb/tutorial_py_calibration.html#gsc.tab=0 )\n",
    "* Celebrate\n",
    "![celebrate](imgs/celebrate.jpg)"
   ]
  },
  {
   "cell_type": "markdown",
   "metadata": {},
   "source": [
    "# Bonus\n",
    "* Use FindExtrinsincCameraParams2 to find the extrinsinc parameters\n",
    "* Use them to add virtual 3D objects on the image\n",
    "see:\n",
    "http://docs.opencv.org/master/d7/d53/tutorial_py_pose.html#gsc.tab=0"
   ]
  },
  {
   "cell_type": "code",
   "execution_count": 4,
   "metadata": {
    "collapsed": false
   },
   "outputs": [
    {
     "data": {
      "image/png": "[encoded data removed]",
      "text/plain": [
       "<matplotlib.figure.Figure at 0x87a7630>"
      ]
     },
     "metadata": {},
     "output_type": "display_data"
    },
    {
     "name": "stdout",
     "output_type": "stream",
     "text": [
      "Released\n"
     ]
    },
    {
     "data": {
      "image/png": "[encoded data removed]",
      "text/plain": [
       "<matplotlib.figure.Figure at 0x87a7630>"
      ]
     },
     "metadata": {},
     "output_type": "display_data"
    }
   ],
   "source": [
    "#Example code to grab frames\n",
    "%pylab inline\n",
    "\n",
    "import cv2\n",
    "import time \n",
    "from matplotlib import pyplot as plt\n",
    "\n",
    "from IPython import display\n",
    "\n",
    "try:\n",
    "    cap = cv2.VideoCapture(0)\n",
    "    fig=plt.figure()\n",
    "\n",
    "    while(True):\n",
    "        ret, frame=cap.read()\n",
    "        frame = cv2.cvtColor(frame, cv2.COLOR_BGR2RGB)\n",
    "        axis('off')\n",
    "        # Title of the window\n",
    "        title(\"Input Stream\")\n",
    "        # Display the frame\n",
    "        plt.imshow(frame)\n",
    "        plt.gcf().show()\n",
    "        # Display the frame until new frame is available\n",
    "        display.clear_output(wait=True)\n",
    "        display.display(plt.gcf())\n",
    "        time.sleep(0.1)\n",
    "        print(\"slept\")\n",
    "except KeyboardInterrupt:\n",
    "    # It is important to release the camera when the stop button is pressed\n",
    "    cap.release()\n",
    "    print(\"Released\")"
   ]
  },
  {
   "cell_type": "code",
   "execution_count": null,
   "metadata": {
    "collapsed": true
   },
   "outputs": [],
   "source": []
  }
 ],
 "metadata": {
  "kernelspec": {
   "display_name": "Python 3",
   "language": "python",
   "name": "python3"
  },
  "language_info": {
   "codemirror_mode": {
    "name": "ipython",
    "version": 3
   },
   "file_extension": ".py",
   "mimetype": "text/x-python",
   "name": "python",
   "nbconvert_exporter": "python",
   "pygments_lexer": "ipython3",
   "version": "3.4.4"
  }
 },
 "nbformat": 4,
 "nbformat_minor": 0
}
