{
 "cells": [
  {
   "cell_type": "code",
   "execution_count": 38,
   "metadata": {
    "collapsed": true
   },
   "outputs": [],
   "source": [
    "import cv2\n",
    "import numpy as np\n",
    "import time"
   ]
  },
  {
   "cell_type": "markdown",
   "metadata": {},
   "source": [
    "The following function takes two images, and if both contain a 9*6 chessboard, it saves them."
   ]
  },
  {
   "cell_type": "code",
   "execution_count": 39,
   "metadata": {
    "collapsed": true
   },
   "outputs": [],
   "source": [
    "# left: left image\n",
    "# right: right image\n",
    "# i: number of pairs that have been saved until now\n",
    "# returns: True if image pair should be saved, False otherwise\n",
    "def saveAndDrawIfChessboardCornersFound(left,right,i):\n",
    "    leftFound, leftCorners = cv2.findChessboardCorners(left,(9,6))\n",
    "    # Save some computation time, only search second image if first\n",
    "    # contained a chessboard\n",
    "    if leftFound:\n",
    "        rightFound, rightCorners = cv2.findChessboardCorners(right,(9,6))\n",
    "        if rightFound:\n",
    "            cv2.imwrite(\"left_\"+str(i)+\".png\",left)\n",
    "            cv2.imwrite(\"right_\"+str(i)+\".png\",right)\n",
    "            leftCopy=left.copy()\n",
    "            rightCopy=right.copy()\n",
    "            cv2.drawChessboardCorners(leftCopy,(9,6),leftCorners,leftFound)\n",
    "            cv2.drawChessboardCorners(rightCopy,(9,6),rightCorners,rightFound)\n",
    "            cv2.imshow(\"Left Chessboard corners\",leftCopy)\n",
    "            cv2.moveWindow(\"Left Chessboard corners\",-150,0)\n",
    "            cv2.imshow(\"Right Chessboard corners\",rightCopy)\n",
    "            cv2.moveWindow(\"Right Chessboard corners\",150,0)\n",
    "            return True\n",
    "    return False"
   ]
  },
  {
   "cell_type": "markdown",
   "metadata": {},
   "source": [
    "We iterate over two webcams until we have saved enough (nbChessboardPairsWanted) pairs of images containing a chessboard."
   ]
  },
  {
   "cell_type": "code",
   "execution_count": 40,
   "metadata": {
    "collapsed": false
   },
   "outputs": [],
   "source": [
    "capLeft=cv2.VideoCapture(1)\n",
    "capRight=cv2.VideoCapture(0)\n",
    "\n",
    "nbPairsAcquired=0\n",
    "nbChessboardPairsFound=0\n",
    "nbChessboardPairsWanted=50\n",
    "skip=10\n",
    "\n",
    "while nbChessboardPairsFound<nbChessboardPairsWanted:\n",
    "    try:\n",
    "        retLeft,left=capLeft.read()\n",
    "        retRight,right=capRight.read()\n",
    "        \n",
    "        if retLeft and retRight:\n",
    "            cv2.imshow(\"Left image\",left)\n",
    "            cv2.imshow(\"Right image\",right)\n",
    "            cv2.moveWindow(\"Left image\",0,200)\n",
    "            cv2.moveWindow(\"Right image\",900,200)\n",
    "            nbPairsAcquired+=1\n",
    "            if nbPairsAcquired%skip==0:\n",
    "                if saveAndDrawIfChessboardCornersFound(left,right,nbChessboardPairsFound):\n",
    "                    nbChessboardPairsFound+=1\n",
    "                    \n",
    "        else:\n",
    "            print(\"Couldn't grab images from both cameras:\")\n",
    "            print(\"\\t - left: \"+str(retLeft))\n",
    "            print(\"\\t - right: \"+str(retRight))\n",
    "            break\n",
    "            \n",
    "        # 113 is the ASCII code for 'q'\n",
    "        if cv2.waitKey(10) == 113:\n",
    "            break\n",
    "    except:\n",
    "        print(\"Something went wrong!\")\n",
    "        time.sleep(1)\n",
    "        capLeft.release()\n",
    "        capRight.release()\n",
    "        break\n",
    "        \n",
    "        \n",
    "# Do not forget to release the cameras...\n",
    "capLeft.release()\n",
    "capRight.release()\n",
    "\n",
    "# ...and close all windows\n",
    "cv2.destroyAllWindows()"
   ]
  }
 ],
 "metadata": {
  "kernelspec": {
   "display_name": "Python 3",
   "language": "python",
   "name": "python3"
  },
  "language_info": {
   "codemirror_mode": {
    "name": "ipython",
    "version": 3
   },
   "file_extension": ".py",
   "mimetype": "text/x-python",
   "name": "python",
   "nbconvert_exporter": "python",
   "pygments_lexer": "ipython3",
   "version": "3.4.4"
  }
 },
 "nbformat": 4,
 "nbformat_minor": 0
}
