{
 "cells": [
  {
   "cell_type": "markdown",
   "metadata": {},
   "source": [
    "Here we use Hartley's method."
   ]
  },
  {
   "cell_type": "code",
   "execution_count": 1,
   "metadata": {
    "collapsed": true
   },
   "outputs": [],
   "source": [
    "import numpy as np\n",
    "import cv2"
   ]
  },
  {
   "cell_type": "markdown",
   "metadata": {},
   "source": [
    "We load the previously recorded images, and get the chessboard corners positions with a subpixel precision."
   ]
  },
  {
   "cell_type": "code",
   "execution_count": 2,
   "metadata": {
    "collapsed": false
   },
   "outputs": [],
   "source": [
    "lefts=[]\n",
    "leftsGray=[]\n",
    "rights=[]\n",
    "rightsGray=[]\n",
    "\n",
    "for i in np.arange(0,60):\n",
    "    l=cv2.imread(\"left_\"+str(i)+\".png\")\n",
    "    r=cv2.imread(\"right_\"+str(i)+\".png\")\n",
    "    lefts.append(l)\n",
    "    rights.append(r)\n",
    "    leftsGray.append(cv2.cvtColor(l,cv2.COLOR_BGR2GRAY))\n",
    "    rightsGray.append(cv2.cvtColor(r,cv2.COLOR_BGR2GRAY))"
   ]
  },
  {
   "cell_type": "code",
   "execution_count": 3,
   "metadata": {
    "collapsed": true
   },
   "outputs": [],
   "source": [
    "def getAllChessboardCorners(images):\n",
    "    res=[]\n",
    "    for image in images:\n",
    "        found,corners=cv2.findChessboardCorners(image,(9,6))\n",
    "        if not found:\n",
    "            print(\"Corners not found!\")\n",
    "        cv2.cornerSubPix(image, corners, (11,11), (-1,-1), (cv2.TERM_CRITERIA_EPS + cv2.TERM_CRITERIA_MAX_ITER, 30, 0.1))\n",
    "        res.append(corners)\n",
    "    return res"
   ]
  },
  {
   "cell_type": "code",
   "execution_count": 4,
   "metadata": {
    "collapsed": false
   },
   "outputs": [],
   "source": [
    "pattern=np.zeros((9*6,3),np.float32)\n",
    "pattern[:,:2]=np.mgrid[0:9,0:6].T.reshape(-1,2)\n",
    "\n",
    "h,w=leftsGray[0].shape"
   ]
  },
  {
   "cell_type": "code",
   "execution_count": 5,
   "metadata": {
    "collapsed": false
   },
   "outputs": [],
   "source": [
    "leftCorners=getAllChessboardCorners(leftsGray)\n",
    "rightCorners=getAllChessboardCorners(rightsGray)\n",
    "patterns=len(leftCorners)*[pattern]"
   ]
  },
  {
   "cell_type": "code",
   "execution_count": 6,
   "metadata": {
    "collapsed": false
   },
   "outputs": [],
   "source": [
    "leftCalibWorked,leftMtx,leftDist,_,_=cv2.calibrateCamera(patterns,leftCorners,(w,h),None,None)\n",
    "rightCalibWorked,rightMtx,rightDist,_,_=cv2.calibrateCamera(patterns,rightCorners,(w,h),None,None)"
   ]
  },
  {
   "cell_type": "markdown",
   "metadata": {
    "collapsed": true
   },
   "source": [
    "Not used here, but could be useful: adjust the scale factor to get minimum pixels outside of the original image."
   ]
  },
  {
   "cell_type": "code",
   "execution_count": 7,
   "metadata": {
    "collapsed": false
   },
   "outputs": [],
   "source": [
    "optimalLeftMatrix,optimalLeftROI=cv2.getOptimalNewCameraMatrix(leftMtx,leftDist,(w,h),1)\n",
    "optimalRightMatrix,optimalRightROI=cv2.getOptimalNewCameraMatrix(rightMtx,rightDist,(w,h),1)"
   ]
  },
  {
   "cell_type": "code",
   "execution_count": 8,
   "metadata": {
    "collapsed": false
   },
   "outputs": [
    {
     "name": "stdout",
     "output_type": "stream",
     "text": [
      "Optimal left: \n",
      "[[ 175.65402222    0.          123.09808778]\n",
      " [   0.          135.91906738  159.31235208]\n",
      " [   0.            0.            1.        ]]\n",
      "leftmatrix: \n",
      "[[ 190.44984831    0.          130.19296664]\n",
      " [   0.          145.81503843  148.39940135]\n",
      " [   0.            0.            1.        ]]\n",
      "Optimal right: \n",
      "[[ 172.47463989    0.          115.31757619]\n",
      " [   0.          129.77236938  148.21178242]\n",
      " [   0.            0.            1.        ]]\n",
      "rightmatrix: \n",
      "[[ 183.87004286    0.          122.34454987]\n",
      " [   0.          138.26688487  145.18068126]\n",
      " [   0.            0.            1.        ]]\n"
     ]
    }
   ],
   "source": [
    "if not leftCalibWorked or not rightCalibWorked:\n",
    "    print(\"Calibration didn't work\")\n",
    "    print(\"\\t right:\"+str(leftCalibWorked))\n",
    "    print(\"\\t left:\"+str(rightCalibWorked))\n",
    "else:\n",
    "    print(\"Optimal left: \\n\"+str(optimalLeftMatrix))\n",
    "    print(\"leftmatrix: \\n\"+str(leftMtx))\n",
    "    print(\"Optimal right: \\n\"+str(optimalRightMatrix))\n",
    "    print(\"rightmatrix: \\n\"+str(rightMtx))"
   ]
  },
  {
   "cell_type": "code",
   "execution_count": 9,
   "metadata": {
    "collapsed": false
   },
   "outputs": [],
   "source": [
    "_,_,_,_,_,R,T,E,F=cv2.stereoCalibrate(patterns,leftCorners,rightCorners,optimalLeftMatrix,leftDist,optimalRightMatrix,rightDist,(w,h))"
   ]
  },
  {
   "cell_type": "code",
   "execution_count": 10,
   "metadata": {
    "collapsed": false
   },
   "outputs": [
    {
     "name": "stdout",
     "output_type": "stream",
     "text": [
      "R: \n",
      "[[ 0.99961086 -0.01329827  0.0245212 ]\n",
      " [ 0.01181341  0.99814435  0.05973524]\n",
      " [-0.02527007 -0.05942232  0.99791303]]\n",
      "T: \n",
      "[[-1.61193622]\n",
      " [ 0.15110279]\n",
      " [-0.34053764]]\n",
      "E: \n",
      "[[  2.04531646e-04   3.30926843e-01   1.71129540e-01]\n",
      " [ -3.81138862e-01  -9.12564293e-02   1.60022177e+00]\n",
      " [ -1.70086445e-01  -1.60693563e+00  -9.99946247e-02]]\n",
      "F: \n",
      "[[ -3.26008927e-08  -6.81677074e-05   6.07268529e-03]\n",
      " [  8.07412046e-05   2.49834941e-05  -7.34649478e-02]\n",
      " [ -7.28715221e-03   6.12494506e-02   1.00000000e+00]]\n"
     ]
    }
   ],
   "source": [
    "print(\"R: \\n\"+str(R))\n",
    "print(\"T: \\n\"+str(T))\n",
    "print(\"E: \\n\"+str(E))\n",
    "print(\"F: \\n\"+str(F))"
   ]
  },
  {
   "cell_type": "code",
   "execution_count": 11,
   "metadata": {
    "collapsed": false
   },
   "outputs": [],
   "source": [
    "leftCornersArray=np.concatenate(leftCorners)\n",
    "rightCornersArray=np.concatenate(rightCorners)\n",
    "\n",
    "undistortedLeft=cv2.undistortPoints(leftCornersArray,leftMtx,leftDist,P=optimalLeftMatrix)\n",
    "undistortedRight=cv2.undistortPoints(rightCornersArray,rightMtx,rightDist,P=optimalRightMatrix)"
   ]
  },
  {
   "cell_type": "code",
   "execution_count": 12,
   "metadata": {
    "collapsed": false
   },
   "outputs": [],
   "source": [
    "_,H1,H2=cv2.stereoRectifyUncalibrated(undistortedLeft,undistortedRight,F,(w,h))"
   ]
  },
  {
   "cell_type": "code",
   "execution_count": 13,
   "metadata": {
    "collapsed": false
   },
   "outputs": [],
   "source": [
    "RLeft=np.linalg.inv(optimalLeftMatrix).dot(H1).dot(optimalLeftMatrix)\n",
    "RRight=np.linalg.inv(optimalRightMatrix).dot(H2).dot(optimalRightMatrix)\n",
    "leftMx,leftMy=cv2.initUndistortRectifyMap(leftMtx,leftDist,RLeft,optimalLeftMatrix,(w,h),cv2.CV_32F)\n",
    "rightMx,rightMy=cv2.initUndistortRectifyMap(rightMtx,rightDist,RRight,optimalRightMatrix,(w,h),cv2.CV_32F)"
   ]
  },
  {
   "cell_type": "code",
   "execution_count": 14,
   "metadata": {
    "collapsed": false
   },
   "outputs": [],
   "source": [
    "resLeft=cv2.remap(leftsGray[1],leftMx,leftMy,cv2.INTER_LINEAR)\n",
    "resRight=cv2.remap(rightsGray[1],rightMx,rightMy,cv2.INTER_LINEAR)"
   ]
  },
  {
   "cell_type": "code",
   "execution_count": 15,
   "metadata": {
    "collapsed": true
   },
   "outputs": [],
   "source": [
    "cv2.imshow(\"left remap\",resLeft)\n",
    "cv2.imshow(\"right remap\",resRight)\n",
    "cv2.waitKey(0)\n",
    "cv2.destroyAllWindows()"
   ]
  },
  {
   "cell_type": "code",
   "execution_count": 17,
   "metadata": {
    "collapsed": false
   },
   "outputs": [],
   "source": [
    "b_matcher=cv2.StereoBM_create(numDisparities=16,blockSize=15)\n",
    "stereo=b_matcher.compute(resLeft,resRight).astype(np.float32)\n",
    "r=cv2.normalize(stereo,r,alpha=0,beta=255,norm_type=cv2.NORM_MINMAX,dtype=cv2.CV_8U)"
   ]
  },
  {
   "cell_type": "code",
   "execution_count": 18,
   "metadata": {
    "collapsed": false
   },
   "outputs": [],
   "source": [
    "cv2.imshow(\"disparity\",r)\n",
    "cv2.waitKey(0)\n",
    "cv2.destroyAllWindows()"
   ]
  },
  {
   "cell_type": "code",
   "execution_count": 19,
   "metadata": {
    "collapsed": false
   },
   "outputs": [],
   "source": [
    "from IPython.html.widgets import interact, interactive\n",
    "from IPython.display import clear_output, display\n",
    "\n",
    "def compute_disparity(nDisparities,blksize,imNum):\n",
    "    b_matcher=cv2.StereoBM_create(numDisparities=nDisparities,blockSize=blksize)\n",
    "    resLeft=cv2.remap(leftsGray[imNum],leftMx,leftMy,cv2.INTER_LINEAR)\n",
    "    resRight=cv2.remap(rightsGray[imNum],rightMx,rightMy,cv2.INTER_LINEAR)\n",
    "    cv2.imshow(\"Diparity map\",cv2.normalize(b_matcher.compute(resLeft,resRight).astype(np.float32),None,alpha=0,beta=255,norm_type=cv2.NORM_MINMAX,dtype=cv2.CV_8U))\n",
    "    cv2.waitKey(10)\n",
    "    \n",
    "w=interactive(compute_disparity,nDisparities=(32,64,32),blksize=(5,91,2),imNum=(0,len(leftsGray)))\n",
    "clear_output(wait=True)\n",
    "display(w)"
   ]
  },
  {
   "cell_type": "markdown",
   "metadata": {},
   "source": [
    "Don't forget to save your rectification mapping!"
   ]
  },
  {
   "cell_type": "code",
   "execution_count": null,
   "metadata": {
    "collapsed": true
   },
   "outputs": [],
   "source": [
    "np.savetxt('leftMx',leftMx)\n",
    "np.savetxt('leftMy',leftMy)\n",
    "\n",
    "np.savetxt('rightMx',rightMx)\n",
    "np.savetxt('rightMy',rightMy)"
   ]
  }
 ],
 "metadata": {
  "kernelspec": {
   "display_name": "Python 3",
   "language": "python",
   "name": "python3"
  },
  "language_info": {
   "codemirror_mode": {
    "name": "ipython",
    "version": 3
   },
   "file_extension": ".py",
   "mimetype": "text/x-python",
   "name": "python",
   "nbconvert_exporter": "python",
   "pygments_lexer": "ipython3",
   "version": "3.4.4"
  }
 },
 "nbformat": 4,
 "nbformat_minor": 0
}
