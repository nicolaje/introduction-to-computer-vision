{
 "cells": [
  {
   "cell_type": "markdown",
   "metadata": {},
   "source": [
    "Here we use Bouguet's method."
   ]
  },
  {
   "cell_type": "code",
   "execution_count": null,
   "metadata": {
    "collapsed": true
   },
   "outputs": [],
   "source": [
    "import numpy as np\n",
    "import cv2"
   ]
  },
  {
   "cell_type": "code",
   "execution_count": null,
   "metadata": {
    "collapsed": false
   },
   "outputs": [],
   "source": [
    "lefts=[]\n",
    "leftsGray=[]\n",
    "rights=[]\n",
    "rightsGray=[]\n",
    "\n",
    "for i in np.arange(0,50):\n",
    "    l=cv2.imread(\"left_\"+str(i)+\".png\")\n",
    "    r=cv2.imread(\"right_\"+str(i)+\".png\")\n",
    "    lefts.append(l)\n",
    "    rights.append(r)\n",
    "    leftsGray.append(cv2.cvtColor(l,cv2.COLOR_BGR2GRAY))\n",
    "    rightsGray.append(cv2.cvtColor(r,cv2.COLOR_BGR2GRAY))"
   ]
  },
  {
   "cell_type": "code",
   "execution_count": null,
   "metadata": {
    "collapsed": true
   },
   "outputs": [],
   "source": [
    "def getAllChessboardCorners(images):\n",
    "    res=[]\n",
    "    for image in images:\n",
    "        found,corners=cv2.findChessboardCorners(image,(9,6))\n",
    "        if not found:\n",
    "            print(\"Corners not found!\")\n",
    "        cv2.cornerSubPix(image, corners, (11,11), (-1,-1), (cv2.TERM_CRITERIA_EPS + cv2.TERM_CRITERIA_MAX_ITER, 30, 0.1))\n",
    "        res.append(corners)\n",
    "    return res"
   ]
  },
  {
   "cell_type": "code",
   "execution_count": null,
   "metadata": {
    "collapsed": true
   },
   "outputs": [],
   "source": [
    "pattern=np.zeros((9*6,3),np.float32)\n",
    "pattern[:,:2]=np.mgrid[0:9,0:6].T.reshape(-1,2)\n",
    "h,w=leftsGray[0].shape"
   ]
  },
  {
   "cell_type": "code",
   "execution_count": null,
   "metadata": {
    "collapsed": true
   },
   "outputs": [],
   "source": [
    "leftCorners=getAllChessboardCorners(leftsGray)\n",
    "rightCorners=getAllChessboardCorners(rightsGray)\n",
    "patterns=len(leftCorners)*[pattern]"
   ]
  },
  {
   "cell_type": "code",
   "execution_count": null,
   "metadata": {
    "collapsed": true
   },
   "outputs": [],
   "source": [
    "leftCalibWorked,leftMtx,leftDist,_,_=cv2.calibrateCamera(patterns,leftCorners,(w,h),None,None)\n",
    "rightCalibWorked,rightMtx,rightDist,_,_=cv2.calibrateCamera(patterns,rightCorners,(w,h),None,None)"
   ]
  },
  {
   "cell_type": "code",
   "execution_count": null,
   "metadata": {
    "collapsed": false
   },
   "outputs": [],
   "source": [
    "optimalLeftMatrix,optimalLeftROI=cv2.getOptimalNewCameraMatrix(leftMtx,leftDist,(w,h),0,newImgSize=(w,h),centerPrincipalPoint=True)\n",
    "optimalRightMatrix,optimalRightROI=cv2.getOptimalNewCameraMatrix(rightMtx,rightDist,(w,h),0,newImgSize=(w,h),centerPrincipalPoint=True)"
   ]
  },
  {
   "cell_type": "code",
   "execution_count": null,
   "metadata": {
    "collapsed": false
   },
   "outputs": [],
   "source": [
    "if not leftCalibWorked or not rightCalibWorked:\n",
    "    print(\"Calibration didn't work\")\n",
    "    print(\"\\t right:\"+str(leftCalibWorked))\n",
    "    print(\"\\t left:\"+str(rightCalibWorked))\n",
    "else:\n",
    "    print(\"Optimal left: \\n\"+str(optimalLeftMatrix))\n",
    "    print(\"leftmatrix: \\n\"+str(leftMtx))\n",
    "    print(\"Optimal right: \\n\"+str(optimalRightMatrix))\n",
    "    print(\"rightmatrix: \\n\"+str(rightMtx))"
   ]
  },
  {
   "cell_type": "code",
   "execution_count": null,
   "metadata": {
    "collapsed": true
   },
   "outputs": [],
   "source": [
    "_1,_2,_3,_4,_5,R,T,E,F=cv2.stereoCalibrate(patterns,leftCorners,rightCorners,leftMtx,leftDist,rightMtx,rightDist,(w,h),flags=cv2.CALIB_FIX_INTRINSIC)"
   ]
  },
  {
   "cell_type": "code",
   "execution_count": null,
   "metadata": {
    "collapsed": false
   },
   "outputs": [],
   "source": [
    "print(\"_1: \"+str(_1))\n",
    "print(\"_2: \"+str(_2))\n",
    "print(\"_3: \"+str(_3))\n",
    "print(\"_4: \"+str(_4))\n",
    "print(\"_5: \"+str(_5))"
   ]
  },
  {
   "cell_type": "code",
   "execution_count": null,
   "metadata": {
    "collapsed": false
   },
   "outputs": [],
   "source": [
    "R1,R2,P1,P2,Q,ROI1,ROI2=cv2.stereoRectify(leftMtx,leftDist,rightMtx,rightDist,(w,h),R,T)"
   ]
  },
  {
   "cell_type": "code",
   "execution_count": null,
   "metadata": {
    "collapsed": false
   },
   "outputs": [],
   "source": [
    "print(\"R1:\"+str(R1))\n",
    "print(\"R2:\"+str(R2))\n",
    "print(\"P1:\"+str(P1))\n",
    "print(\"P2:\"+str(P2))\n",
    "print(\"Q:\"+str(Q))"
   ]
  },
  {
   "cell_type": "code",
   "execution_count": null,
   "metadata": {
    "collapsed": false
   },
   "outputs": [],
   "source": [
    "leftMx,leftMy=cv2.initUndistortRectifyMap(leftMtx,leftDist,R1,P1,(w,h),cv2.CV_32F)\n",
    "rightMx,rightMy=cv2.initUndistortRectifyMap(rightMtx,rightDist,R2,P2,(w,h),cv2.CV_32F)"
   ]
  },
  {
   "cell_type": "code",
   "execution_count": null,
   "metadata": {
    "collapsed": false
   },
   "outputs": [],
   "source": [
    "resLeft=cv2.remap(leftsGray[11],leftMx,leftMy,cv2.INTER_LINEAR)\n",
    "resRight=cv2.remap(rightsGray[11],rightMx,rightMy,cv2.INTER_LINEAR)"
   ]
  },
  {
   "cell_type": "code",
   "execution_count": null,
   "metadata": {
    "collapsed": true
   },
   "outputs": [],
   "source": [
    "cv2.imshow(\"left\",leftsGray[11])\n",
    "cv2.imshow(\"right\",rightsGray[11])\n",
    "\n",
    "cv2.imshow(\"left remap\",resLeft)\n",
    "cv2.imshow(\"right remap\",resRight)\n",
    "cv2.waitKey(0)\n",
    "cv2.destroyAllWindows()"
   ]
  },
  {
   "cell_type": "code",
   "execution_count": null,
   "metadata": {
    "collapsed": false
   },
   "outputs": [],
   "source": [
    "b_matcher=cv2.StereoBM_create(numDisparities=128,blockSize=15)\n",
    "r=cv2.normalize(b_matcher.compute(resLeft,resRight).astype(np.float32),None,alpha=0,beta=255,norm_type=cv2.NORM_MINMAX,dtype=cv2.CV_8U)"
   ]
  },
  {
   "cell_type": "code",
   "execution_count": null,
   "metadata": {
    "collapsed": true
   },
   "outputs": [],
   "source": [
    "cv2.imshow(\"disparity BM\",r)\n",
    "cv2.waitKey(0)\n",
    "cv2.destroyAllWindows()"
   ]
  },
  {
   "cell_type": "markdown",
   "metadata": {},
   "source": [
    "See how BM parameters affect the resulting disparity map"
   ]
  },
  {
   "cell_type": "code",
   "execution_count": null,
   "metadata": {
    "collapsed": false
   },
   "outputs": [],
   "source": [
    "from IPython.html.widgets import interact, interactive\n",
    "from IPython.display import clear_output, display\n",
    "\n",
    "def compute_disparity(nDisparities,blksize,imNum):\n",
    "    b_matcher=cv2.StereoBM_create(numDisparities=nDisparities,blockSize=blksize)\n",
    "    resLeft=cv2.remap(leftsGray[imNum],leftMx,leftMy,cv2.INTER_LINEAR)\n",
    "    resRight=cv2.remap(rightsGray[imNum],rightMx,rightMy,cv2.INTER_LINEAR)\n",
    "    cv2.imshow(\"Diparity map\",cv2.normalize(b_matcher.compute(resLeft,resRight).astype(np.float32),None,alpha=0,beta=255,norm_type=cv2.NORM_MINMAX,dtype=cv2.CV_8U))\n",
    "    cv2.waitKey(10)\n",
    "    \n",
    "w=interactive(compute_disparity,nDisparities=(32,64,32),blksize=(5,91,2),imNum=(0,len(leftsGray)))\n",
    "clear_output(wait=True)\n",
    "display(w)"
   ]
  },
  {
   "cell_type": "markdown",
   "metadata": {},
   "source": [
    "Contrarily to Hartley's method, we are able to reproject the disparity map back in the world coordinates."
   ]
  },
  {
   "cell_type": "code",
   "execution_count": null,
   "metadata": {
    "collapsed": false
   },
   "outputs": [],
   "source": [
    "cv2.destroyAllWindows()\n",
    "im3d=cv2.reprojectImageTo3D(r,Q)"
   ]
  },
  {
   "cell_type": "markdown",
   "metadata": {
    "collapsed": true
   },
   "source": [
    "And finally, you should use numpy.savetxt to memorize your mappings!"
   ]
  },
  {
   "cell_type": "code",
   "execution_count": null,
   "metadata": {
    "collapsed": true
   },
   "outputs": [],
   "source": [
    "np.savetxt('leftMx',leftMx)\n",
    "np.savetxt('leftMy',leftMy)\n",
    "\n",
    "np.savetxt('rightMx',rightMx)\n",
    "np.savetxt('rightMy',rightMy)"
   ]
  }
 ],
 "metadata": {
  "kernelspec": {
   "display_name": "Python 3",
   "language": "python",
   "name": "python3"
  },
  "language_info": {
   "codemirror_mode": {
    "name": "ipython",
    "version": 3
   },
   "file_extension": ".py",
   "mimetype": "text/x-python",
   "name": "python",
   "nbconvert_exporter": "python",
   "pygments_lexer": "ipython3",
   "version": "3.4.4"
  }
 },
 "nbformat": 4,
 "nbformat_minor": 0
}
