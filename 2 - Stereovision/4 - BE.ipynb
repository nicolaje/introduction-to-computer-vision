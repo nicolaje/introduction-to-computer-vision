{
 "cells": [
  {
   "cell_type": "markdown",
   "metadata": {},
   "source": [
    "# Introduction\n",
    "This time you are going to apply your knowledge in stereo rectification to calibrate a given pair of camera. The pair is simulated using MORSE (a robot simulator included in this directory).\n",
    "\n",
    "![morse](imgs/morse.png)\n",
    "\n",
    "## Morse\n",
    "To run Morse:\n",
    "* launch the file startMorse.bat\n",
    "* run only once the command : morse import last\n",
    "\n",
    "Then, every time you want to run the simulator, from that prompt run the commands:\n",
    "* morse edit last\n",
    "* when Blender has opened, put your mouse on the scene and press \"p\" (play) to run the simulator\n",
    "* note that once the simulator has launched, you can't move its window or it will crash and you will have to run it again (morse run last)\n",
    "\n",
    "## Other material\n",
    "You are given 3 Jupyter Notebook:\n",
    "* 1 - Stereo Acquisition to acquire a given number of image pairs containing a chessboard\n",
    "* 2 - Stereo without calibration: the procedure to follow for using Hartley's rectification method\n",
    "* 3 - Stereo Calibration Bouguet to use Bouguet's method for stereo rectification\n",
    "\n",
    "# 0 - The scenario\n",
    "Here we simulate a terrestrial robot equiped with a pair of cameras. We want to get a disparity map from these cameras, and watch it as the robot moves in the environment.\n",
    "For that, we will have to calibrate the stereo pair, and then compute the disparity map.\n",
    "\n",
    "If you want to familiarize yourself with the two aforementionned stereo calibration methods, feel free to first create and use a real dataset.\n",
    "\n",
    "# 1 - Stereo pair calibration\n",
    "In the folder \"stereo_imgs\", you are given a set of 60 image pairs containing a 9x6 chessboard. \n",
    "Calibrate the stereo pair. (You can use the notebook 1 - Stereo acquisition, 3 - Stereo Calibration Bouguet, or 2 - Stereo Calibration Harltey if you prefer).\n",
    "Your remapping matrices will be saved (see numpy.savetxt).\n",
    "\n",
    "# 2 - Disparity map\n",
    "The script \"simu_connect.py\" gives you a canvas to grab images from the simulator and display them.\n",
    "Using the previously computed parameters (see numpy.genfromtxt), compute the disparity map for every received image pair.\n",
    "\n",
    "# 3 - Rules\n",
    "This is a team \"project\". You can create as many team as you want, a number of 4 person max per team is recommended to evenly distribute the work.\n",
    "\n",
    "## Outcomes\n",
    "* A demonstration of the working depth map measure\n",
    "* The code and the mappings of your stereo rectification (matrices given to remap, saved with numpy.savetxt)"
   ]
  },
  {
   "cell_type": "code",
   "execution_count": null,
   "metadata": {
    "collapsed": true
   },
   "outputs": [],
   "source": []
  }
 ],
 "metadata": {
  "kernelspec": {
   "display_name": "Python 3",
   "language": "python",
   "name": "python3"
  },
  "language_info": {
   "codemirror_mode": {
    "name": "ipython",
    "version": 3
   },
   "file_extension": ".py",
   "mimetype": "text/x-python",
   "name": "python",
   "nbconvert_exporter": "python",
   "pygments_lexer": "ipython3",
   "version": "3.4.4"
  }
 },
 "nbformat": 4,
 "nbformat_minor": 0
}
